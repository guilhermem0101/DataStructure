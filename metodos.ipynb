{
 "cells": [
  {
   "cell_type": "code",
   "execution_count": 1,
   "metadata": {},
   "outputs": [
    {
     "name": "stdout",
     "output_type": "stream",
     "text": [
      "Última fruta: uva\n",
      "Lista atualizada de frutas: ['maçã', 'banana', 'laranja']\n"
     ]
    }
   ],
   "source": [
    "frutas = ['maçã', 'banana', 'laranja', 'uva']\n",
    "\n",
    "ultimo_fruta = frutas.pop(0) #remove primeiro (padrão ultimo) \n",
    "\n",
    "print(\"Última fruta:\", ultimo_fruta)\n",
    "print(\"Lista atualizada de frutas:\", frutas)\n"
   ]
  },
  {
   "cell_type": "code",
   "execution_count": 4,
   "metadata": {},
   "outputs": [
    {
     "name": "stdout",
     "output_type": "stream",
     "text": [
      "Lista atualizada de frutas: ['maçã', 'laranja', 'banana', 'uva']\n"
     ]
    }
   ],
   "source": [
    "frutas = ['maçã', 'banana', 'uva']\n",
    "\n",
    "frutas.insert(1, 'laranja')  # Insere 'laranja' na posição 1\n",
    "\n",
    "print(\"Lista atualizada de frutas:\", frutas)\n"
   ]
  },
  {
   "cell_type": "code",
   "execution_count": 5,
   "metadata": {},
   "outputs": [
    {
     "name": "stdout",
     "output_type": "stream",
     "text": [
      "Lista atualizada de frutas: ['maçã', 'banana', 'uva', 'laranja']\n"
     ]
    }
   ],
   "source": [
    "frutas = ['maçã', 'banana', 'uva']\n",
    "\n",
    "frutas.append('laranja')  # Adiciona 'laranja' ao final da lista\n",
    "\n",
    "print(\"Lista atualizada de frutas:\", frutas)\n"
   ]
  },
  {
   "cell_type": "code",
   "execution_count": 1,
   "metadata": {},
   "outputs": [
    {
     "name": "stdout",
     "output_type": "stream",
     "text": [
      "Elemento removido: 5\n",
      "Elemento removido: 4\n",
      "Elemento removido: 3\n",
      "Elemento removido: 2\n",
      "Elemento removido: 1\n"
     ]
    }
   ],
   "source": [
    "minha_lista = [1, 2, 3, 4, 5]\n",
    "\n",
    "while minha_lista:\n",
    "    elemento = minha_lista.pop()\n",
    "    print(f\"Elemento removido: {elemento}\")\n"
   ]
  }
 ],
 "metadata": {
  "kernelspec": {
   "display_name": "Python 3",
   "language": "python",
   "name": "python3"
  },
  "language_info": {
   "codemirror_mode": {
    "name": "ipython",
    "version": 3
   },
   "file_extension": ".py",
   "mimetype": "text/x-python",
   "name": "python",
   "nbconvert_exporter": "python",
   "pygments_lexer": "ipython3",
   "version": "3.11.6"
  },
  "orig_nbformat": 4
 },
 "nbformat": 4,
 "nbformat_minor": 2
}
