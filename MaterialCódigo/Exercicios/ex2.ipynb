{
 "cells": [
  {
   "cell_type": "code",
   "execution_count": 1,
   "metadata": {},
   "outputs": [],
   "source": [
    "def bubble_sort(a_list):\n",
    "    for pass_num in range(len(a_list) - 1, 0, -1):\n",
    "        for i in range(pass_num):\n",
    "            if a_list[i] > a_list[i + 1]:\n",
    "                temp = a_list[i]\n",
    "                a_list[i] = a_list[i + 1]\n",
    "                a_list[i + 1] = temp"
   ]
  },
  {
   "cell_type": "code",
   "execution_count": 2,
   "metadata": {},
   "outputs": [
    {
     "name": "stdout",
     "output_type": "stream",
     "text": [
      "['g', 'u', 'i']\n",
      "['g', 'i', 'u']\n",
      "giu\n"
     ]
    }
   ],
   "source": [
    "string = input(\"Entre com uma string qualquer: \")\n",
    "\n",
    "lista_caracteres = []\n",
    "for i in range(len(string)):\n",
    "    lista_caracteres.append(string[i])\n",
    "\n",
    "print(lista_caracteres)\n",
    "bubble_sort(lista_caracteres)\n",
    "print(lista_caracteres)\n",
    "string = \"\".join(lista_caracteres)\n",
    "print(string)"
   ]
  }
 ],
 "metadata": {
  "kernelspec": {
   "display_name": "Python 3",
   "language": "python",
   "name": "python3"
  },
  "language_info": {
   "codemirror_mode": {
    "name": "ipython",
    "version": 3
   },
   "file_extension": ".py",
   "mimetype": "text/x-python",
   "name": "python",
   "nbconvert_exporter": "python",
   "pygments_lexer": "ipython3",
   "version": "3.11.6"
  }
 },
 "nbformat": 4,
 "nbformat_minor": 2
}
