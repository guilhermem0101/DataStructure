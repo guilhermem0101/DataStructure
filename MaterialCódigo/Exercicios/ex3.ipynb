{
 "cells": [
  {
   "cell_type": "code",
   "execution_count": 2,
   "metadata": {},
   "outputs": [],
   "source": [
    "def selection_sort(a_list):\n",
    "    for fill_slot in range(len(a_list) - 1, 0, -1):\n",
    "        pos_of_max = 0\n",
    "        for location in range(1, fill_slot + 1):\n",
    "            if len(a_list[location]) > len(a_list[pos_of_max]):\n",
    "                print(\"houve atualização de pos_of_max\")\n",
    "                pos_of_max = location\n",
    "\n",
    "        print(a_list[fill_slot], a_list[pos_of_max])\n",
    "        temp = a_list[fill_slot]\n",
    "        a_list[fill_slot] = a_list[pos_of_max]\n",
    "        a_list[pos_of_max] = temp"
   ]
  },
  {
   "cell_type": "code",
   "execution_count": 4,
   "metadata": {},
   "outputs": [
    {
     "name": "stdout",
     "output_type": "stream",
     "text": [
      "['guilherme', 'debora', 'arletes']\n",
      "arletes guilherme\n",
      "debora arletes\n",
      "['debora', 'arletes', 'guilherme']\n"
     ]
    }
   ],
   "source": [
    "nome1, nome2, nome3 = input(\"Entre com três nomes: \").split()\n",
    "lista_nomes = []\n",
    "lista_nomes.append(nome1)\n",
    "lista_nomes.append(nome2)\n",
    "lista_nomes.append(nome3)\n",
    "print(lista_nomes)\n",
    "selection_sort(lista_nomes)\n",
    "print(lista_nomes)"
   ]
  }
 ],
 "metadata": {
  "kernelspec": {
   "display_name": "Python 3",
   "language": "python",
   "name": "python3"
  },
  "language_info": {
   "codemirror_mode": {
    "name": "ipython",
    "version": 3
   },
   "file_extension": ".py",
   "mimetype": "text/x-python",
   "name": "python",
   "nbconvert_exporter": "python",
   "pygments_lexer": "ipython3",
   "version": "3.11.6"
  }
 },
 "nbformat": 4,
 "nbformat_minor": 2
}
