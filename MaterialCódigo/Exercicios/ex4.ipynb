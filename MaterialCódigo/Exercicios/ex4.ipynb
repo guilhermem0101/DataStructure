{
 "cells": [
  {
   "cell_type": "code",
   "execution_count": 1,
   "metadata": {},
   "outputs": [],
   "source": [
    "def binary_search(a_list, item):\n",
    "    first = 0\n",
    "    last = len(a_list) - 1\n",
    "    found = False\n",
    "\n",
    "    while first <= last and not found:\n",
    "        midpoint = (first + last) // 2\n",
    "        if a_list[midpoint] == item:\n",
    "            found = True\n",
    "        else:\n",
    "            if item < a_list[midpoint]:\n",
    "                last = midpoint - 1\n",
    "            else:\n",
    "                first = midpoint + 1\n",
    "\n",
    "    return found"
   ]
  },
  {
   "cell_type": "code",
   "execution_count": null,
   "metadata": {},
   "outputs": [],
   "source": [
    "def sequential_search(lista, item):\n",
    "    i = 0\n",
    "    found = False\n",
    "    # Enquanto (i é menor que o tamanho da lista) e (found = False)\n",
    "    while i < len(lista) and not found:\n",
    "        if lista[i] == item:\n",
    "            found = True\n",
    "        else:\n",
    "            i = i + 1\n",
    "\n",
    "    return found"
   ]
  },
  {
   "cell_type": "code",
   "execution_count": 2,
   "metadata": {},
   "outputs": [
    {
     "name": "stdout",
     "output_type": "stream",
     "text": [
      "Achei\n"
     ]
    }
   ],
   "source": [
    "test_list = [20, 44, 48, 55, 62, 66, 74, 88, 93, 99]\n",
    "numero = int(input(\"Entre com um numero: \"))\n",
    "retorno = binary_search(test_list, numero)\n",
    "if retorno:\n",
    "    print(\"Achei\")\n",
    "else:\n",
    "    print(\"Nao achei\")"
   ]
  }
 ],
 "metadata": {
  "kernelspec": {
   "display_name": "Python 3",
   "language": "python",
   "name": "python3"
  },
  "language_info": {
   "codemirror_mode": {
    "name": "ipython",
    "version": 3
   },
   "file_extension": ".py",
   "mimetype": "text/x-python",
   "name": "python",
   "nbconvert_exporter": "python",
   "pygments_lexer": "ipython3",
   "version": "3.11.6"
  }
 },
 "nbformat": 4,
 "nbformat_minor": 2
}
