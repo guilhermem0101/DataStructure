{
 "cells": [
  {
   "cell_type": "code",
   "execution_count": 7,
   "metadata": {},
   "outputs": [],
   "source": [
    "def insertion_sort(a_list):\n",
    "    for index in range(1, len(a_list)):\n",
    "        current_value = a_list[index]\n",
    "       \n",
    "        position = index\n",
    "        while position > 0 and a_list[position - 1] > current_value:\n",
    "            print(a_list[position], a_list[position - 1])\n",
    "            a_list[position] = a_list[position - 1]\n",
    "            position = position - 1\n",
    "\n",
    "        a_list[position] = current_value\n",
    "        print(a_list)"
   ]
  },
  {
   "cell_type": "code",
   "execution_count": 8,
   "metadata": {},
   "outputs": [
    {
     "name": "stdout",
     "output_type": "stream",
     "text": [
      "['maria', 'joao', 'inacio']\n",
      "joao maria\n",
      "['joao', 'maria', 'inacio']\n",
      "inacio maria\n",
      "maria joao\n",
      "['inacio', 'joao', 'maria']\n"
     ]
    }
   ],
   "source": [
    "nome1, nome2, nome3 = input(\"Entre com três nomes: \").split()\n",
    "lista_nomes = []\n",
    "lista_nomes.append(nome1)\n",
    "lista_nomes.append(nome2)\n",
    "lista_nomes.append(nome3)\n",
    "print(lista_nomes)\n",
    "insertion_sort(lista_nomes)"
   ]
  }
 ],
 "metadata": {
  "kernelspec": {
   "display_name": "Python 3",
   "language": "python",
   "name": "python3"
  },
  "language_info": {
   "codemirror_mode": {
    "name": "ipython",
    "version": 3
   },
   "file_extension": ".py",
   "mimetype": "text/x-python",
   "name": "python",
   "nbconvert_exporter": "python",
   "pygments_lexer": "ipython3",
   "version": "3.11.6"
  }
 },
 "nbformat": 4,
 "nbformat_minor": 2
}
