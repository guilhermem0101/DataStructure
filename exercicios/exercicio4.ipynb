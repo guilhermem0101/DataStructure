{
 "cells": [
  {
   "cell_type": "code",
   "execution_count": 2,
   "metadata": {},
   "outputs": [],
   "source": [
    "from Stack import Stack\n",
    "import random"
   ]
  },
  {
   "cell_type": "code",
   "execution_count": 27,
   "metadata": {},
   "outputs": [],
   "source": [
    "def verificaIgualdade(pilha1, pilha2):    \n",
    "    \n",
    "    retorno = \"Pilhas não são iguais\"\n",
    "    \n",
    "    if pilha1.size() == pilha2.size():\n",
    "        lista1=[]\n",
    "        lista2=[]\n",
    "        \n",
    "        while not pilha1.is_empty(): # Esvazia a pilha e preenche a lista 1\n",
    "            lista1.append(pilha1.pop())     \n",
    "    \n",
    "        while not pilha2.is_empty(): # Esvazia a pilha e preenche a lista 2\n",
    "            lista2.append(pilha2.pop())\n",
    "            \n",
    "        if lista1 == lista2:\n",
    "            retorno = \"Pilhas são iguais\"\n",
    "                        \n",
    "        while len(lista1) > 0: # Esvazia a lista e preenche a pilha 1         \n",
    "            pilha1.push(lista1.pop())\n",
    "                    \n",
    "        while len(lista2) > 0: # Esvazia a lista e preenche a pilha 2\n",
    "            pilha2.push(lista2.pop())\n",
    "            \n",
    "  \n",
    "    return retorno"
   ]
  },
  {
   "cell_type": "code",
   "execution_count": 28,
   "metadata": {},
   "outputs": [
    {
     "name": "stdout",
     "output_type": "stream",
     "text": [
      "Pilha1:\n",
      "| 10\n",
      "| 8\n",
      "| 4\n",
      "| 4\n",
      "| 5\n",
      "Pilha2:\n",
      "| 15\n",
      "| 19\n",
      "| 17\n",
      "| 13\n",
      "| 3\n",
      "Pilhas não são iguais\n"
     ]
    }
   ],
   "source": [
    "objPilha1 = Stack()\n",
    "objPilha2 = Stack()\n",
    "\n",
    "for _ in range(5):    \n",
    "    numero_aleatorio = random.randint(1, 20)  # Gere números aleatórios de 1 a 20 \n",
    "    objPilha1.push(numero_aleatorio)   \n",
    "     \n",
    "print(\"Pilha1:\")     \n",
    "objPilha1.imprimir()\n",
    "\n",
    "for _ in range(5):    \n",
    "    numero_aleatorio = random.randint(1, 20)  # Gere números aleatórios de 1 a 20 \n",
    "    objPilha2.push(numero_aleatorio)\n",
    "    \n",
    "print(\"Pilha2:\")    \n",
    "objPilha2.imprimir()\n",
    "\n",
    "objPilha2=objPilha1\n",
    "print(verificaIgualdade(objPilha1, objPilha2))\n"
   ]
  },
  {
   "cell_type": "code",
   "execution_count": 19,
   "metadata": {},
   "outputs": [
    {
     "name": "stdout",
     "output_type": "stream",
     "text": [
      "As listas são iguais\n"
     ]
    }
   ],
   "source": [
    "lista1 = [1, 2, 3, 4, 5]\n",
    "lista2 = [1, 2, 3, 4, 5]\n",
    "\n",
    "if lista1 == lista2:\n",
    "    print(\"As listas são iguais\")\n",
    "else:\n",
    "    print(\"As listas são diferentes\")\n"
   ]
  }
 ],
 "metadata": {
  "kernelspec": {
   "display_name": "Python 3",
   "language": "python",
   "name": "python3"
  },
  "language_info": {
   "codemirror_mode": {
    "name": "ipython",
    "version": 3
   },
   "file_extension": ".py",
   "mimetype": "text/x-python",
   "name": "python",
   "nbconvert_exporter": "python",
   "pygments_lexer": "ipython3",
   "version": "3.11.5"
  },
  "orig_nbformat": 4
 },
 "nbformat": 4,
 "nbformat_minor": 2
}
