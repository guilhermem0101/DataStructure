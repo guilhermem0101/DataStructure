{
 "cells": [
  {
   "cell_type": "code",
   "execution_count": null,
   "metadata": {},
   "outputs": [],
   "source": [
    "from Stack import Stack\n",
    "import random"
   ]
  },
  {
   "cell_type": "code",
   "execution_count": null,
   "metadata": {},
   "outputs": [],
   "source": [
    "def infix_to_prefix(infix_expr):\n",
    "    prec = {}\n",
    "\n",
    "    prec[\"*\"] = 3\n",
    "    prec[\"/\"] = 3\n",
    "    prec[\"+\"] = 2\n",
    "    prec[\"-\"] = 2\n",
    "    prec[\"(\"] = 1\n",
    "    # objeto do tipo pilha\n",
    "    op_stack = Stack()\n",
    "    # lista utilizada para montar os valores finais em notacao posfixa\n",
    "    prefix_list = []\n",
    "\n",
    "    token_list = infix_expr.split()\n",
    "\n",
    "    for token in token_list:\n",
    "        if token in \"ABCDEFGHIJKLMNOPQRSTUVWXYZ\" or token in \"0123456789\":\n",
    "            prefix_list.append(token)\n",
    "        elif token == '(':\n",
    "            op_stack.push(token)\n",
    "        elif token == ')':\n",
    "            top_token = op_stack.pop()\n",
    "            while top_token != '(':\n",
    "                prefix_list.insert(len(prefix_list)-2, top_token)\n",
    "                top_token = op_stack.pop()\n",
    "        else:\n",
    "            while (not op_stack.is_empty()) and (prec[op_stack.peek()] >= prec[token]):\n",
    "                prefix_list.append(op_stack.pop())\n",
    "            op_stack.push(token)\n",
    "        # print(prefix_list)\n",
    "\n",
    "    while not op_stack.is_empty():\n",
    "        prefix_list.insert(0, op_stack.pop())\n",
    "\n",
    "    return \" \".join(prefix_list)\n"
   ]
  },
  {
   "cell_type": "code",
   "execution_count": null,
   "metadata": {},
   "outputs": [],
   "source": [
    "def infix_to_prefix(infix_expr):\n",
    "    prec = {}\n",
    "\n",
    "    prec[\"*\"] = 3\n",
    "    prec[\"/\"] = 3\n",
    "    prec[\"+\"] = 2\n",
    "    prec[\"-\"] = 2\n",
    "    prec[\"(\"] = 1\n",
    "    # objeto do tipo pilha\n",
    "    op_stack = Stack()\n",
    "    # lista utilizada para montar os valores finais em notacao posfixa\n",
    "    prefix_list = []\n",
    "\n",
    "    token_list = infix_expr.split()\n",
    "\n",
    "    for token in token_list:\n",
    "        if token in \"ABCDEFGHIJKLMNOPQRSTUVWXYZ\" or token in \"0123456789\":\n",
    "            prefix_list.append(token)\n",
    "        elif token == '(':\n",
    "            op_stack.push(token)\n",
    "        elif token == ')':\n",
    "            top_token = op_stack.pop()\n",
    "            while top_token != '(':\n",
    "                prefix_list.insert(len(prefix_list)-2, top_token)\n",
    "                top_token = op_stack.pop()\n",
    "        else:\n",
    "            while (not op_stack.is_empty()) and (prec[op_stack.peek()] >= prec[token]):\n",
    "                prefix_list.append(op_stack.pop())\n",
    "            op_stack.push(token)\n",
    "        # print(prefix_list)\n",
    "\n",
    "    while not op_stack.is_empty():\n",
    "        prefix_list.insert(0, op_stack.pop())\n",
    "\n",
    "    return \" \".join(prefix_list)\n"
   ]
  },
  {
   "cell_type": "code",
   "execution_count": null,
   "metadata": {},
   "outputs": [],
   "source": []
  }
 ],
 "metadata": {
  "language_info": {
   "name": "python"
  },
  "orig_nbformat": 4
 },
 "nbformat": 4,
 "nbformat_minor": 2
}
