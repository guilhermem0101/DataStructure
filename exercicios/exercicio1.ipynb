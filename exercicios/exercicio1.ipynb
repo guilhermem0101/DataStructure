{
 "cells": [
  {
   "cell_type": "code",
   "execution_count": 8,
   "metadata": {},
   "outputs": [],
   "source": [
    "from Stack import Stack\n",
    "import random"
   ]
  },
  {
   "cell_type": "code",
   "execution_count": 36,
   "metadata": {},
   "outputs": [],
   "source": [
    "def ordenaPilha(pilha):\n",
    "    \n",
    "    lista=[]\n",
    "    \n",
    "    while not pilha.is_empty(): # Esvazia a pilha e preenche a lista\n",
    "        lista.append(pilha.pop())\n",
    "    \n",
    "    lista.sort() # Ordena os valores\n",
    "    \n",
    "    while len(lista) > 0: # Esvazia a lista e preenche a pilha            \n",
    "        pilha.push(lista.pop())\n",
    "    \n",
    "    return "
   ]
  },
  {
   "cell_type": "code",
   "execution_count": 37,
   "metadata": {},
   "outputs": [
    {
     "name": "stdout",
     "output_type": "stream",
     "text": [
      "Pilha nao ordenada: \n",
      "| 16\n",
      "| 12\n",
      "| 20\n",
      "| 2\n",
      "| 18\n",
      "Pilha ordenada: \n",
      "| 2\n",
      "| 12\n",
      "| 16\n",
      "| 18\n",
      "| 20\n"
     ]
    }
   ],
   "source": [
    "objPilha = Stack()\n",
    "\n",
    "for _ in range(5):\n",
    "    numero_aleatorio = random.randint(1, 20)  # Gere números aleatórios de 1 a 10 \n",
    "    objPilha.push(numero_aleatorio)\n",
    "    \n",
    "print(\"Pilha nao ordenada: \")\n",
    "objPilha.imprimir()\n",
    "\n",
    "# chama a funcao de ordenar\n",
    "ordenaPilha(objPilha)\n",
    "\n",
    "print(\"Pilha ordenada: \")\n",
    "objPilha.imprimir()"
   ]
  }
 ],
 "metadata": {
  "kernelspec": {
   "display_name": "Python 3",
   "language": "python",
   "name": "python3"
  },
  "language_info": {
   "codemirror_mode": {
    "name": "ipython",
    "version": 3
   },
   "file_extension": ".py",
   "mimetype": "text/x-python",
   "name": "python",
   "nbconvert_exporter": "python",
   "pygments_lexer": "ipython3",
   "version": "3.11.5"
  },
  "orig_nbformat": 4
 },
 "nbformat": 4,
 "nbformat_minor": 2
}
