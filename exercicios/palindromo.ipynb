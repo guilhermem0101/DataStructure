{
 "cells": [
  {
   "cell_type": "code",
   "execution_count": 1,
   "metadata": {},
   "outputs": [],
   "source": [
    "from Stack import Stack\n",
    "import random"
   ]
  },
  {
   "cell_type": "code",
   "execution_count": 3,
   "metadata": {},
   "outputs": [],
   "source": [
    "\n",
    "def verifica_palindromo(e_string):\n",
    "    obj_pilha = Stack()\n",
    "    for caracter in e_string:\n",
    "        obj_pilha.push(caracter)\n",
    "\n",
    "    f_string = \"\"\n",
    "    while not obj_pilha.is_empty():\n",
    "        f_string = f_string + str(obj_pilha.pop())\n",
    "\n",
    "    if e_string == f_string:\n",
    "        return \"Entrada de dados forma um palíndromo\"\n",
    "\n",
    "    return \"Entrada de dados nao forma um palíndromo\""
   ]
  },
  {
   "cell_type": "code",
   "execution_count": 6,
   "metadata": {},
   "outputs": [],
   "source": [
    "\n",
    "def revstring(mystr):\n",
    "    pilha = Stack()\n",
    "    for caracter in mystr:\n",
    "        pilha.push(caracter)\n",
    "\n",
    "    f_string = \"\"\n",
    "    while not pilha.is_empty():\n",
    "        f_string = f_string + str(pilha.pop())\n",
    "\n",
    "\n",
    "    return f_string"
   ]
  },
  {
   "cell_type": "code",
   "execution_count": 11,
   "metadata": {},
   "outputs": [
    {
     "name": "stdout",
     "output_type": "stream",
     "text": [
      "| 34\n",
      "| 21\n",
      "| 13\n",
      "| 8\n",
      "| 5\n",
      "| 3\n",
      "| 2\n",
      "| 1\n",
      "| 1\n",
      "| 0\n"
     ]
    },
    {
     "ename": "",
     "evalue": "",
     "output_type": "error",
     "traceback": [
      "\u001b[1;31mThe Kernel crashed while executing code in the the current cell or a previous cell. Please review the code in the cell(s) to identify a possible cause of the failure. Click <a href='https://aka.ms/vscodeJupyterKernelCrash'>here</a> for more info. View Jupyter <a href='command:jupyter.viewOutput'>log</a> for further details."
     ]
    }
   ],
   "source": [
    "def fibonacci(n):\n",
    "    pilha = Stack()\n",
    "    pilha.push(0)\n",
    "    pilha.push(1)\n",
    "    \n",
    "    for i in range(2, n):\n",
    "        fib1 = pilha.pop()\n",
    "        fib2 = pilha.pop()\n",
    "        next_fib = fib1 + fib2\n",
    "        pilha.push(fib2)\n",
    "        pilha.push(fib1)\n",
    "        pilha.push(next_fib)\n",
    "\n",
    "    return pilha\n",
    "\n",
    "# Exemplo de uso para calcular os primeiros 10 números da sequência\n",
    "n = 10\n",
    "result = fibonacci(n)\n",
    "result.imprimir()\n"
   ]
  },
  {
   "cell_type": "code",
   "execution_count": 7,
   "metadata": {},
   "outputs": [
    {
     "name": "stdout",
     "output_type": "stream",
     "text": [
      "fksfjkdsl\n",
      "radar\n",
      "lsdkfajkdsl\n",
      "ararA\n",
      "121121\n"
     ]
    }
   ],
   "source": [
    "print(revstring(\"lsdkjfskf\"))\n",
    "print(verifica_palindromo(\"radar\"))\n",
    "print(verifica_palindromo(\"lsdkjafkdsl\"))\n",
    "print(verifica_palindromo(\"Arara\"))\n",
    "print(verifica_palindromo(\"121121\"))"
   ]
  }
 ],
 "metadata": {
  "kernelspec": {
   "display_name": "Python 3",
   "language": "python",
   "name": "python3"
  },
  "language_info": {
   "codemirror_mode": {
    "name": "ipython",
    "version": 3
   },
   "file_extension": ".py",
   "mimetype": "text/x-python",
   "name": "python",
   "nbconvert_exporter": "python",
   "pygments_lexer": "ipython3",
   "version": "3.11.6"
  },
  "orig_nbformat": 4
 },
 "nbformat": 4,
 "nbformat_minor": 2
}
