{
 "cells": [
  {
   "cell_type": "code",
   "execution_count": null,
   "metadata": {},
   "outputs": [],
   "source": [
    "from Stack import Stack\n",
    "import random"
   ]
  },
  {
   "cell_type": "code",
   "execution_count": null,
   "metadata": {},
   "outputs": [],
   "source": [
    "\n",
    "def verifica_palindromo(e_string):\n",
    "    obj_pilha = Stack()\n",
    "    for caracter in e_string:\n",
    "        obj_pilha.push(caracter)\n",
    "\n",
    "    f_string = \"\"\n",
    "    while not obj_pilha.is_empty():\n",
    "        f_string = f_string + str(obj_pilha.pop())\n",
    "\n",
    "    if e_string == f_string:\n",
    "        return \"Entrada de dados forma um palíndromo\"\n",
    "\n",
    "    return \"Entrada de dados nao forma um palíndromo\""
   ]
  },
  {
   "cell_type": "code",
   "execution_count": null,
   "metadata": {},
   "outputs": [],
   "source": [
    "print(verifica_palindromo(\"lsdkjfskf\"))\n",
    "print(verifica_palindromo(\"radar\"))\n",
    "print(verifica_palindromo(\"lsdkjafkdsl\"))\n",
    "print(verifica_palindromo(\"Arara\"))\n",
    "print(verifica_palindromo(\"121121\"))"
   ]
  }
 ],
 "metadata": {
  "language_info": {
   "name": "python"
  },
  "orig_nbformat": 4
 },
 "nbformat": 4,
 "nbformat_minor": 2
}
