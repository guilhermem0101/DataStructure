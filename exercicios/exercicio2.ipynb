{
 "cells": [
  {
   "cell_type": "code",
   "execution_count": 2,
   "metadata": {},
   "outputs": [],
   "source": [
    "from Stack import Stack\n",
    "import random"
   ]
  },
  {
   "cell_type": "code",
   "execution_count": 14,
   "metadata": {},
   "outputs": [],
   "source": [
    "def maiorValor(pilha):    \n",
    "    lista=[]\n",
    "        \n",
    "    while not pilha.is_empty(): # Esvazia a pilha e preenche a lista\n",
    "        lista.append(pilha.pop())\n",
    "    \n",
    "    maior = max(lista) # Pega o maior valor\n",
    "    \n",
    "    while len(lista) > 0: # Esvazia a lista e preenche a pilha            \n",
    "        pilha.push(lista.pop())\n",
    "        \n",
    "    return maior"
   ]
  },
  {
   "cell_type": "code",
   "execution_count": 13,
   "metadata": {},
   "outputs": [],
   "source": [
    "def menorValor(pilha):    \n",
    "    lista=[]\n",
    "        \n",
    "    while not pilha.is_empty(): # Esvazia a pilha e preenche a lista\n",
    "        lista.append(pilha.pop())\n",
    "    \n",
    "    menor = min(lista) # Pega o menor valor\n",
    "    \n",
    "    while len(lista) > 0: # Esvazia a lista e preenche a pilha            \n",
    "        pilha.push(lista.pop())\n",
    "        \n",
    "    return menor"
   ]
  },
  {
   "cell_type": "code",
   "execution_count": 12,
   "metadata": {},
   "outputs": [],
   "source": [
    "def mediaValor(pilha):    \n",
    "    lista=[]\n",
    "        \n",
    "    while not pilha.is_empty(): # Esvazia a pilha e preenche a lista\n",
    "        lista.append(pilha.pop())\n",
    "    \n",
    "    media = sum(lista)/len(lista) # média\n",
    "    \n",
    "    while len(lista) > 0: # Esvazia a lista e preenche a pilha            \n",
    "        pilha.push(lista.pop())\n",
    "        \n",
    "    return media"
   ]
  },
  {
   "cell_type": "code",
   "execution_count": 17,
   "metadata": {},
   "outputs": [],
   "source": [
    "def verificaPilha(objPilha):\n",
    "    maior = maiorValor(objPilha)\n",
    "    print(\"Maior valor: \", maior)\n",
    "    menor = menorValor(objPilha)\n",
    "    print(\"Menor valor: \", menor)\n",
    "    mediaarit = mediaValor(objPilha)\n",
    "    print(\"Media aritmetica: \", mediaarit)"
   ]
  },
  {
   "cell_type": "code",
   "execution_count": 18,
   "metadata": {},
   "outputs": [
    {
     "name": "stdout",
     "output_type": "stream",
     "text": [
      "Pilha:\n",
      "| 17\n",
      "| 3\n",
      "| 15\n",
      "| 2\n",
      "| 5\n",
      "Maior valor:  17\n",
      "Menor valor:  2\n",
      "Media aritmetica:  8.4\n"
     ]
    }
   ],
   "source": [
    "\n",
    "# cria objeto pilha\n",
    "objPilha = Stack()\n",
    "\n",
    "for _ in range(5):\n",
    "    numero_aleatorio = random.randint(1, 20)  # Gera números de 1 a 10 \n",
    "    objPilha.push(numero_aleatorio)\n",
    "\n",
    "print(\"Pilha:\")\n",
    "objPilha.imprimir()\n",
    "verificaPilha(objPilha)"
   ]
  }
 ],
 "metadata": {
  "kernelspec": {
   "display_name": "Python 3",
   "language": "python",
   "name": "python3"
  },
  "language_info": {
   "codemirror_mode": {
    "name": "ipython",
    "version": 3
   },
   "file_extension": ".py",
   "mimetype": "text/x-python",
   "name": "python",
   "nbconvert_exporter": "python",
   "pygments_lexer": "ipython3",
   "version": "3.11.5"
  },
  "orig_nbformat": 4
 },
 "nbformat": 4,
 "nbformat_minor": 2
}
