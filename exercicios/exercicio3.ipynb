{
 "cells": [
  {
   "cell_type": "code",
   "execution_count": 1,
   "metadata": {},
   "outputs": [],
   "source": [
    "from Stack import Stack\n",
    "import random"
   ]
  },
  {
   "cell_type": "code",
   "execution_count": 2,
   "metadata": {},
   "outputs": [],
   "source": [
    "def inverteOrdem(pilha):    \n",
    "    lista=[]\n",
    "        \n",
    "    while not pilha.is_empty(): # Esvazia a pilha e preenche a lista\n",
    "        lista.append(pilha.pop())\n",
    "    \n",
    "    while len(lista) > 0: # Esvazia a lista e preenche a pilha em ordem invertida           \n",
    "        pilha.push(lista.pop(0))\n",
    "        \n",
    "    return "
   ]
  },
  {
   "cell_type": "code",
   "execution_count": 6,
   "metadata": {},
   "outputs": [
    {
     "name": "stdout",
     "output_type": "stream",
     "text": [
      "Pilha nao invertida: \n",
      "| 13\n",
      "| 2\n",
      "| 15\n",
      "| 17\n",
      "| 19\n",
      "Pilha invertida: \n",
      "| 19\n",
      "| 17\n",
      "| 15\n",
      "| 2\n",
      "| 13\n"
     ]
    }
   ],
   "source": [
    "objPilha = Stack()\n",
    "\n",
    "for _ in range(5):\n",
    "    numero_aleatorio = random.randint(1, 20)  # Gere números aleatórios de 1 a 20 \n",
    "    objPilha.push(numero_aleatorio)\n",
    "    \n",
    "print(\"Pilha nao invertida: \")\n",
    "objPilha.imprimir()\n",
    "\n",
    "# chama a funcao \n",
    "inverteOrdem(objPilha)\n",
    "\n",
    "print(\"Pilha invertida: \")\n",
    "objPilha.imprimir()"
   ]
  }
 ],
 "metadata": {
  "kernelspec": {
   "display_name": "Python 3",
   "language": "python",
   "name": "python3"
  },
  "language_info": {
   "codemirror_mode": {
    "name": "ipython",
    "version": 3
   },
   "file_extension": ".py",
   "mimetype": "text/x-python",
   "name": "python",
   "nbconvert_exporter": "python",
   "pygments_lexer": "ipython3",
   "version": "3.11.5"
  },
  "orig_nbformat": 4
 },
 "nbformat": 4,
 "nbformat_minor": 2
}
