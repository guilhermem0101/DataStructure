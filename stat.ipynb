{
 "cells": [
  {
   "cell_type": "code",
   "execution_count": 4,
   "metadata": {},
   "outputs": [],
   "source": [
    "import numpy as np\n",
    "from collections import Counter\n"
   ]
  },
  {
   "cell_type": "code",
   "execution_count": 12,
   "metadata": {},
   "outputs": [
    {
     "name": "stdout",
     "output_type": "stream",
     "text": [
      "Média: 2.8\n",
      "Mediana: 3.0\n",
      "Moda: 2\n",
      "Variância: 0.5599999999999999\n",
      "Desvio Padrão: 0.7483314773547882\n"
     ]
    }
   ],
   "source": [
    "\n",
    "def calcular_media(dados):\n",
    "    return np.mean(dados)\n",
    "\n",
    "def calcular_mediana(dados):\n",
    "    return np.median(dados)\n",
    "\n",
    "def calcular_moda(dados):\n",
    "    # Use a classe Counter para contar a frequência de cada elemento\n",
    "    contagem = Counter(dados)\n",
    "    \n",
    "    # Encontre o elemento mais comum (moda)\n",
    "    moda = contagem.most_common(1)[0][0]\n",
    "    \n",
    "    return moda\n",
    "\n",
    "def calcular_variancia(dados):\n",
    "    return np.var(dados)\n",
    "\n",
    "def calcular_desvio_padrao(dados):\n",
    "    return np.std(dados)\n",
    "\n",
    "# Exemplo de uso\n",
    "dados = [1, 2, 3, 4, 4, 5, 5, 6, 6, 7, 7, 8, 8, 8, 9, 9, 9, 9, 9, 10, 10, 10, 10, 10, 10]\n",
    "dados2= [2, 3, 2, 4, 3, 2, 3, 2, 3, 4, 3, 2, 3, 2, 4, 3, 2, 3, 4, 2]\n",
    "dados3=[15, 20, 30, 25, 15, 40, 20, 30, 25, 25]\n",
    "def cal(dados):\n",
    "    print(\"Média:\", calcular_media(dados))\n",
    "    print(\"Mediana:\", calcular_mediana(dados))\n",
    "    print(\"Moda:\", calcular_moda(dados))\n",
    "    print(\"Variância:\", calcular_variancia(dados))\n",
    "    print(\"Desvio Padrão:\", calcular_desvio_padrao(dados))\n",
    "    \n",
    "cal(dados2)\n"
   ]
  },
  {
   "cell_type": "code",
   "execution_count": 8,
   "metadata": {},
   "outputs": [
    {
     "name": "stdout",
     "output_type": "stream",
     "text": [
      "Amplitude dos dados: 9\n"
     ]
    }
   ],
   "source": [
    "maior_valor = max(dados)\n",
    "menor_valor = min(dados)\n",
    "\n",
    "# Calcule a amplitude\n",
    "amplitude = maior_valor - menor_valor\n",
    "\n",
    "print(\"Amplitude dos dados:\", amplitude)"
   ]
  }
 ],
 "metadata": {
  "kernelspec": {
   "display_name": "Python 3",
   "language": "python",
   "name": "python3"
  },
  "language_info": {
   "codemirror_mode": {
    "name": "ipython",
    "version": 3
   },
   "file_extension": ".py",
   "mimetype": "text/x-python",
   "name": "python",
   "nbconvert_exporter": "python",
   "pygments_lexer": "ipython3",
   "version": "3.11.6"
  },
  "orig_nbformat": 4
 },
 "nbformat": 4,
 "nbformat_minor": 2
}
